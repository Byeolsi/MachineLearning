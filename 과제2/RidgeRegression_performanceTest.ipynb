{
  "nbformat": 4,
  "nbformat_minor": 0,
  "metadata": {
    "colab": {
      "name": "RidgeRegression_performanceTest.ipynb",
      "provenance": [],
      "collapsed_sections": []
    },
    "kernelspec": {
      "name": "python3",
      "display_name": "Python 3"
    },
    "language_info": {
      "name": "python"
    }
  },
  "cells": [
    {
      "cell_type": "code",
      "execution_count": null,
      "metadata": {
        "id": "NCnlTCUlgQLb"
      },
      "outputs": [],
      "source": [
        "import numpy as np # 연산을 위한 numpy\n",
        "import pandas as pd # 데이터프레임을 위한 pandas"
      ]
    },
    {
      "cell_type": "code",
      "source": [
        "from sklearn.datasets import fetch_california_housing # california_housing 데이터 셋.\n",
        "from sklearn.model_selection import train_test_split # 데이터셋을 train 데이터와 test 데이터로 나눠주는 함수.\n",
        "from sklearn.linear_model import Ridge # ridge 회귀 알고리즘을 사용.\n",
        "from sklearn.metrics import mean_squared_error # 성능 비교를 위한 MSE 함수."
      ],
      "metadata": {
        "id": "GoR_tS6_g9sQ"
      },
      "execution_count": null,
      "outputs": []
    },
    {
      "cell_type": "code",
      "source": [
        "dataset = fetch_california_housing() # california_housing 데이터셋을 불러오는 함수. 데이터셋 변수에 저장.\n",
        "\n",
        "print(dataset.DESCR) # 해당 데이터셋에 대한 정보를 출력."
      ],
      "metadata": {
        "id": "YkBBt3WVg_8_",
        "colab": {
          "base_uri": "https://localhost:8080/"
        },
        "outputId": "43459d56-947e-46b4-c82f-1a909a119f9f"
      },
      "execution_count": null,
      "outputs": [
        {
          "output_type": "stream",
          "name": "stdout",
          "text": [
            ".. _california_housing_dataset:\n",
            "\n",
            "California Housing dataset\n",
            "--------------------------\n",
            "\n",
            "**Data Set Characteristics:**\n",
            "\n",
            "    :Number of Instances: 20640\n",
            "\n",
            "    :Number of Attributes: 8 numeric, predictive attributes and the target\n",
            "\n",
            "    :Attribute Information:\n",
            "        - MedInc        median income in block group\n",
            "        - HouseAge      median house age in block group\n",
            "        - AveRooms      average number of rooms per household\n",
            "        - AveBedrms     average number of bedrooms per household\n",
            "        - Population    block group population\n",
            "        - AveOccup      average number of household members\n",
            "        - Latitude      block group latitude\n",
            "        - Longitude     block group longitude\n",
            "\n",
            "    :Missing Attribute Values: None\n",
            "\n",
            "This dataset was obtained from the StatLib repository.\n",
            "https://www.dcc.fc.up.pt/~ltorgo/Regression/cal_housing.html\n",
            "\n",
            "The target variable is the median house value for California districts,\n",
            "expressed in hundreds of thousands of dollars ($100,000).\n",
            "\n",
            "This dataset was derived from the 1990 U.S. census, using one row per census\n",
            "block group. A block group is the smallest geographical unit for which the U.S.\n",
            "Census Bureau publishes sample data (a block group typically has a population\n",
            "of 600 to 3,000 people).\n",
            "\n",
            "An household is a group of people residing within a home. Since the average\n",
            "number of rooms and bedrooms in this dataset are provided per household, these\n",
            "columns may take surpinsingly large values for block groups with few households\n",
            "and many empty houses, such as vacation resorts.\n",
            "\n",
            "It can be downloaded/loaded using the\n",
            ":func:`sklearn.datasets.fetch_california_housing` function.\n",
            "\n",
            ".. topic:: References\n",
            "\n",
            "    - Pace, R. Kelley and Ronald Barry, Sparse Spatial Autoregressions,\n",
            "      Statistics and Probability Letters, 33 (1997) 291-297\n",
            "\n"
          ]
        }
      ]
    },
    {
      "cell_type": "code",
      "source": [
        "x_data = pd.DataFrame(dataset.data, columns=dataset.feature_names) # 데이터셋의 데이터를 데이터프레임의 형태로 변환하여 져장.\n",
        "y_data = pd.DataFrame(dataset.target) # 데이터셋의 타겟을 데이터프레임의 형태로 변환하여 저장.\n",
        "\n",
        "# 데이터 출력.\n",
        "print(x_data)\n",
        "print(y_data)"
      ],
      "metadata": {
        "id": "fhSBqGZ9iplE",
        "colab": {
          "base_uri": "https://localhost:8080/"
        },
        "outputId": "03d79464-c2e3-4c63-d5ac-cdc31273e979"
      },
      "execution_count": null,
      "outputs": [
        {
          "output_type": "stream",
          "name": "stdout",
          "text": [
            "       MedInc  HouseAge  AveRooms  AveBedrms  Population  AveOccup  Latitude  \\\n",
            "0      8.3252      41.0  6.984127   1.023810       322.0  2.555556     37.88   \n",
            "1      8.3014      21.0  6.238137   0.971880      2401.0  2.109842     37.86   \n",
            "2      7.2574      52.0  8.288136   1.073446       496.0  2.802260     37.85   \n",
            "3      5.6431      52.0  5.817352   1.073059       558.0  2.547945     37.85   \n",
            "4      3.8462      52.0  6.281853   1.081081       565.0  2.181467     37.85   \n",
            "...       ...       ...       ...        ...         ...       ...       ...   \n",
            "20635  1.5603      25.0  5.045455   1.133333       845.0  2.560606     39.48   \n",
            "20636  2.5568      18.0  6.114035   1.315789       356.0  3.122807     39.49   \n",
            "20637  1.7000      17.0  5.205543   1.120092      1007.0  2.325635     39.43   \n",
            "20638  1.8672      18.0  5.329513   1.171920       741.0  2.123209     39.43   \n",
            "20639  2.3886      16.0  5.254717   1.162264      1387.0  2.616981     39.37   \n",
            "\n",
            "       Longitude  \n",
            "0        -122.23  \n",
            "1        -122.22  \n",
            "2        -122.24  \n",
            "3        -122.25  \n",
            "4        -122.25  \n",
            "...          ...  \n",
            "20635    -121.09  \n",
            "20636    -121.21  \n",
            "20637    -121.22  \n",
            "20638    -121.32  \n",
            "20639    -121.24  \n",
            "\n",
            "[20640 rows x 8 columns]\n",
            "           0\n",
            "0      4.526\n",
            "1      3.585\n",
            "2      3.521\n",
            "3      3.413\n",
            "4      3.422\n",
            "...      ...\n",
            "20635  0.781\n",
            "20636  0.771\n",
            "20637  0.923\n",
            "20638  0.847\n",
            "20639  0.894\n",
            "\n",
            "[20640 rows x 1 columns]\n"
          ]
        }
      ]
    },
    {
      "cell_type": "code",
      "source": [
        "# x_data 의 행과 열의 크기를 출력.\n",
        "print(x_data.shape)"
      ],
      "metadata": {
        "id": "e2b9w7ddkns2",
        "colab": {
          "base_uri": "https://localhost:8080/"
        },
        "outputId": "7b058959-a528-4fc5-989b-187e10f660dd"
      },
      "execution_count": null,
      "outputs": [
        {
          "output_type": "stream",
          "name": "stdout",
          "text": [
            "(20640, 8)\n"
          ]
        }
      ]
    },
    {
      "cell_type": "code",
      "source": [
        "# x_data 에서 샘플의 개수, 평균, 표준 편차, 최소값, 샘플 중 25%의 값, 50%의 값, 75%의 값, 최대값 출력.\n",
        "print(x_data.describe())"
      ],
      "metadata": {
        "id": "kg_Pyot3kyAE",
        "colab": {
          "base_uri": "https://localhost:8080/"
        },
        "outputId": "22dbf7d6-e0a1-4c2b-ca2f-7cd48f9777bc"
      },
      "execution_count": null,
      "outputs": [
        {
          "output_type": "stream",
          "name": "stdout",
          "text": [
            "             MedInc      HouseAge      AveRooms     AveBedrms    Population  \\\n",
            "count  20640.000000  20640.000000  20640.000000  20640.000000  20640.000000   \n",
            "mean       3.870671     28.639486      5.429000      1.096675   1425.476744   \n",
            "std        1.899822     12.585558      2.474173      0.473911   1132.462122   \n",
            "min        0.499900      1.000000      0.846154      0.333333      3.000000   \n",
            "25%        2.563400     18.000000      4.440716      1.006079    787.000000   \n",
            "50%        3.534800     29.000000      5.229129      1.048780   1166.000000   \n",
            "75%        4.743250     37.000000      6.052381      1.099526   1725.000000   \n",
            "max       15.000100     52.000000    141.909091     34.066667  35682.000000   \n",
            "\n",
            "           AveOccup      Latitude     Longitude  \n",
            "count  20640.000000  20640.000000  20640.000000  \n",
            "mean       3.070655     35.631861   -119.569704  \n",
            "std       10.386050      2.135952      2.003532  \n",
            "min        0.692308     32.540000   -124.350000  \n",
            "25%        2.429741     33.930000   -121.800000  \n",
            "50%        2.818116     34.260000   -118.490000  \n",
            "75%        3.282261     37.710000   -118.010000  \n",
            "max     1243.333333     41.950000   -114.310000  \n"
          ]
        }
      ]
    },
    {
      "cell_type": "code",
      "source": [
        "# train, test 데이터를 8 : 2 로 나눔.\n",
        "x_train, x_test, y_train, y_test = train_test_split(x_data, y_data, test_size=0.2, random_state=22)\n",
        "\n",
        "# train 데이터 출력.\n",
        "print(x_train)\n",
        "print(y_train)"
      ],
      "metadata": {
        "id": "KmU9_rezjTv8",
        "colab": {
          "base_uri": "https://localhost:8080/"
        },
        "outputId": "d1192cf1-8f45-4733-efb7-042a96dc1ecf"
      },
      "execution_count": null,
      "outputs": [
        {
          "output_type": "stream",
          "name": "stdout",
          "text": [
            "       MedInc  HouseAge   AveRooms  AveBedrms  Population  AveOccup  Latitude  \\\n",
            "2115   2.3006      23.0   5.081746   1.087302      3573.0  2.835714     36.76   \n",
            "1985   2.3319      13.0   5.456121   1.120260      2243.0  2.430119     38.70   \n",
            "4520   1.0333      18.0   3.651376   1.041284       547.0  2.509174     34.04   \n",
            "15323  2.7386      12.0   5.305160   1.220641      3015.0  2.682384     33.21   \n",
            "12560  1.8333      48.0   5.720000   1.171429       605.0  3.457143     38.54   \n",
            "...       ...       ...        ...        ...         ...       ...       ...   \n",
            "13970  2.6094      19.0  14.740437   3.333333       981.0  2.680328     34.26   \n",
            "9181   6.7760      21.0   6.753372   1.024085      3331.0  3.209056     34.37   \n",
            "18911  3.7240      15.0   5.151276   1.068651      5008.0  3.042527     38.14   \n",
            "15956  3.9167      41.0   5.277592   1.173913      1159.0  3.876254     37.71   \n",
            "11125  2.9583      35.0   3.863354   1.006211      1603.0  4.978261     33.84   \n",
            "\n",
            "       Longitude  \n",
            "2115     -119.72  \n",
            "1985     -120.79  \n",
            "4520     -118.20  \n",
            "15323    -117.34  \n",
            "12560    -121.46  \n",
            "...          ...  \n",
            "13970    -116.85  \n",
            "9181     -118.55  \n",
            "18911    -122.24  \n",
            "15956    -122.45  \n",
            "11125    -117.91  \n",
            "\n",
            "[16512 rows x 8 columns]\n",
            "           0\n",
            "2115   0.690\n",
            "1985   1.385\n",
            "4520   1.354\n",
            "15323  2.161\n",
            "12560  0.582\n",
            "...      ...\n",
            "13970  0.924\n",
            "9181   2.781\n",
            "18911  1.316\n",
            "15956  2.436\n",
            "11125  1.754\n",
            "\n",
            "[16512 rows x 1 columns]\n"
          ]
        }
      ]
    },
    {
      "cell_type": "code",
      "source": [
        "# test 데이터 출력.\n",
        "print(x_test)\n",
        "print(y_test)"
      ],
      "metadata": {
        "colab": {
          "base_uri": "https://localhost:8080/"
        },
        "id": "lOYzpRfAvhqE",
        "outputId": "5de008fa-aaee-42d5-9471-c198dc1c8e2f"
      },
      "execution_count": null,
      "outputs": [
        {
          "output_type": "stream",
          "name": "stdout",
          "text": [
            "       MedInc  HouseAge  AveRooms  AveBedrms  Population  AveOccup  Latitude  \\\n",
            "13186  2.7250      28.0  5.484733   1.125954       724.0  2.763359     34.09   \n",
            "4384   2.9709      44.0  4.234611   1.059233      1783.0  2.070848     34.09   \n",
            "16198  1.4250      43.0  3.690909   1.018182      1805.0  4.102273     37.96   \n",
            "7656   3.6477      28.0  4.928364   1.039690      4753.0  4.601162     33.82   \n",
            "4889   2.2356      39.0  3.061404   1.017544      1046.0  4.587719     34.02   \n",
            "...       ...       ...       ...        ...         ...       ...       ...   \n",
            "19042  3.9309      18.0  6.318881   1.156643      2230.0  3.118881     38.49   \n",
            "14987  3.4784      32.0  5.223881   0.994030       997.0  2.976119     32.73   \n",
            "13756  1.8152      17.0  4.223660   1.024030      1412.0  2.609982     34.06   \n",
            "15457  6.2096      14.0  5.365079   0.936508       384.0  3.047619     33.18   \n",
            "2639   2.1780      17.0  5.111301   1.044521      1544.0  2.643836     40.59   \n",
            "\n",
            "       Longitude  \n",
            "13186    -117.69  \n",
            "4384     -118.27  \n",
            "16198    -121.27  \n",
            "7656     -118.26  \n",
            "4889     -118.26  \n",
            "...          ...  \n",
            "19042    -121.81  \n",
            "14987    -117.03  \n",
            "13756    -117.16  \n",
            "15457    -117.28  \n",
            "2639     -124.14  \n",
            "\n",
            "[4128 rows x 8 columns]\n",
            "           0\n",
            "13186  1.402\n",
            "4384   2.250\n",
            "16198  0.613\n",
            "7656   1.174\n",
            "4889   1.195\n",
            "...      ...\n",
            "19042  1.785\n",
            "14987  1.544\n",
            "13756  0.943\n",
            "15457  1.781\n",
            "2639   0.768\n",
            "\n",
            "[4128 rows x 1 columns]\n"
          ]
        }
      ]
    },
    {
      "cell_type": "code",
      "source": [
        "# ridge 회귀 알고리즘을 사용. alpha(L2 규제 계수, 람다) = 10\n",
        "estimator = Ridge(alpha=10)"
      ],
      "metadata": {
        "id": "IJ66-fbWj_OX"
      },
      "execution_count": null,
      "outputs": []
    },
    {
      "cell_type": "code",
      "source": [
        "# 인공지능 모델을 학습시킴.\n",
        "estimator.fit(x_train, y_train)"
      ],
      "metadata": {
        "id": "TZH1Daf6kXps",
        "colab": {
          "base_uri": "https://localhost:8080/"
        },
        "outputId": "3b98d10e-3a84-4978-b621-63728cbca5ea"
      },
      "execution_count": null,
      "outputs": [
        {
          "output_type": "execute_result",
          "data": {
            "text/plain": [
              "Ridge(alpha=10)"
            ]
          },
          "metadata": {},
          "execution_count": 10
        }
      ]
    },
    {
      "cell_type": "code",
      "source": [
        "y_predict = estimator.predict(x_train) # 학습시킨 인공지능 모델에 x_train 데이터를 입력으로 하여 예측.\n",
        "score = mean_squared_error(y_train, y_predict) # 실제 정답과 인공지능이 예측하여 출력한 답과 비교하여 MSE를 계산.\n",
        "print(score) # 점수 출력."
      ],
      "metadata": {
        "id": "A38LYJB_kY4d",
        "colab": {
          "base_uri": "https://localhost:8080/"
        },
        "outputId": "c28c01b8-db65-4f79-fb1e-370d6c872461"
      },
      "execution_count": null,
      "outputs": [
        {
          "output_type": "stream",
          "name": "stdout",
          "text": [
            "0.5286386345562331\n"
          ]
        }
      ]
    },
    {
      "cell_type": "code",
      "source": [
        "y_predict = estimator.predict(x_test) # 학습시킨 인공지능 모델에 x_test 데이터를 입력으로 하여 예측.\n",
        "score = mean_squared_error(y_test, y_predict) # 실제 정답과 인공지능이 예측하여 출력한 답과 비교하여 MSE를 계산.\n",
        "print(score) # 점수 출력."
      ],
      "metadata": {
        "id": "B2-GKCfMkZyL",
        "colab": {
          "base_uri": "https://localhost:8080/"
        },
        "outputId": "14988380-af5a-4fee-c7d7-e148ce5a1ed5"
      },
      "execution_count": null,
      "outputs": [
        {
          "output_type": "stream",
          "name": "stdout",
          "text": [
            "0.5076049204644386\n"
          ]
        }
      ]
    }
  ]
}