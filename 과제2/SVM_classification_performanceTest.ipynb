{
  "nbformat": 4,
  "nbformat_minor": 0,
  "metadata": {
    "colab": {
      "name": "SVM-classification_performanceTest.ipynb",
      "provenance": [],
      "collapsed_sections": []
    },
    "kernelspec": {
      "name": "python3",
      "display_name": "Python 3"
    },
    "language_info": {
      "name": "python"
    }
  },
  "cells": [
    {
      "cell_type": "code",
      "execution_count": null,
      "metadata": {
        "id": "NCnlTCUlgQLb"
      },
      "outputs": [],
      "source": [
        "import numpy as np # 연산을 위한 numpy\n",
        "import pandas as pd # 데이터프레임을 위한 pandas"
      ]
    },
    {
      "cell_type": "code",
      "source": [
        "from sklearn.datasets import load_iris # scikit-learn iris 데이터셋.\n",
        "from sklearn.model_selection import train_test_split # 데이터셋을 train 데이터와 test 데이터로 나눠주는 함수.\n",
        "from sklearn import svm # svm 분류 알고리즘을 사용.\n",
        "from sklearn.metrics import accuracy_score # 성능 비교를 위한 함수."
      ],
      "metadata": {
        "id": "GoR_tS6_g9sQ"
      },
      "execution_count": null,
      "outputs": []
    },
    {
      "cell_type": "code",
      "source": [
        "dataset = load_iris() # iris 데이터셋을 불러오는 함수. 데이터셋 변수에 저장.\n",
        "\n",
        "print(dataset.DESCR) # 해당 데이터셋에 대한 정보를 출력."
      ],
      "metadata": {
        "id": "YkBBt3WVg_8_",
        "colab": {
          "base_uri": "https://localhost:8080/"
        },
        "outputId": "b400a47b-9ee5-43b7-e12f-ce3b1f8df627"
      },
      "execution_count": null,
      "outputs": [
        {
          "output_type": "stream",
          "name": "stdout",
          "text": [
            ".. _iris_dataset:\n",
            "\n",
            "Iris plants dataset\n",
            "--------------------\n",
            "\n",
            "**Data Set Characteristics:**\n",
            "\n",
            "    :Number of Instances: 150 (50 in each of three classes)\n",
            "    :Number of Attributes: 4 numeric, predictive attributes and the class\n",
            "    :Attribute Information:\n",
            "        - sepal length in cm\n",
            "        - sepal width in cm\n",
            "        - petal length in cm\n",
            "        - petal width in cm\n",
            "        - class:\n",
            "                - Iris-Setosa\n",
            "                - Iris-Versicolour\n",
            "                - Iris-Virginica\n",
            "                \n",
            "    :Summary Statistics:\n",
            "\n",
            "    ============== ==== ==== ======= ===== ====================\n",
            "                    Min  Max   Mean    SD   Class Correlation\n",
            "    ============== ==== ==== ======= ===== ====================\n",
            "    sepal length:   4.3  7.9   5.84   0.83    0.7826\n",
            "    sepal width:    2.0  4.4   3.05   0.43   -0.4194\n",
            "    petal length:   1.0  6.9   3.76   1.76    0.9490  (high!)\n",
            "    petal width:    0.1  2.5   1.20   0.76    0.9565  (high!)\n",
            "    ============== ==== ==== ======= ===== ====================\n",
            "\n",
            "    :Missing Attribute Values: None\n",
            "    :Class Distribution: 33.3% for each of 3 classes.\n",
            "    :Creator: R.A. Fisher\n",
            "    :Donor: Michael Marshall (MARSHALL%PLU@io.arc.nasa.gov)\n",
            "    :Date: July, 1988\n",
            "\n",
            "The famous Iris database, first used by Sir R.A. Fisher. The dataset is taken\n",
            "from Fisher's paper. Note that it's the same as in R, but not as in the UCI\n",
            "Machine Learning Repository, which has two wrong data points.\n",
            "\n",
            "This is perhaps the best known database to be found in the\n",
            "pattern recognition literature.  Fisher's paper is a classic in the field and\n",
            "is referenced frequently to this day.  (See Duda & Hart, for example.)  The\n",
            "data set contains 3 classes of 50 instances each, where each class refers to a\n",
            "type of iris plant.  One class is linearly separable from the other 2; the\n",
            "latter are NOT linearly separable from each other.\n",
            "\n",
            ".. topic:: References\n",
            "\n",
            "   - Fisher, R.A. \"The use of multiple measurements in taxonomic problems\"\n",
            "     Annual Eugenics, 7, Part II, 179-188 (1936); also in \"Contributions to\n",
            "     Mathematical Statistics\" (John Wiley, NY, 1950).\n",
            "   - Duda, R.O., & Hart, P.E. (1973) Pattern Classification and Scene Analysis.\n",
            "     (Q327.D83) John Wiley & Sons.  ISBN 0-471-22361-1.  See page 218.\n",
            "   - Dasarathy, B.V. (1980) \"Nosing Around the Neighborhood: A New System\n",
            "     Structure and Classification Rule for Recognition in Partially Exposed\n",
            "     Environments\".  IEEE Transactions on Pattern Analysis and Machine\n",
            "     Intelligence, Vol. PAMI-2, No. 1, 67-71.\n",
            "   - Gates, G.W. (1972) \"The Reduced Nearest Neighbor Rule\".  IEEE Transactions\n",
            "     on Information Theory, May 1972, 431-433.\n",
            "   - See also: 1988 MLC Proceedings, 54-64.  Cheeseman et al\"s AUTOCLASS II\n",
            "     conceptual clustering system finds 3 classes in the data.\n",
            "   - Many, many more ...\n"
          ]
        }
      ]
    },
    {
      "cell_type": "code",
      "source": [
        "x_data = pd.DataFrame(dataset.data, columns=dataset.feature_names) # 데이터셋의 데이터를 데이터프레임의 형태로 변환하여 져장.\n",
        "y_data = pd.DataFrame(dataset.target) # 데이터셋의 타겟을 데이터프레임의 형태로 변환하여 저장.\n",
        "\n",
        "# 데이터 출력.\n",
        "print(x_data)\n",
        "print(y_data)"
      ],
      "metadata": {
        "id": "fhSBqGZ9iplE",
        "colab": {
          "base_uri": "https://localhost:8080/"
        },
        "outputId": "f54e8095-aa08-47f5-fec5-0253a714712e"
      },
      "execution_count": null,
      "outputs": [
        {
          "output_type": "stream",
          "name": "stdout",
          "text": [
            "     sepal length (cm)  sepal width (cm)  petal length (cm)  petal width (cm)\n",
            "0                  5.1               3.5                1.4               0.2\n",
            "1                  4.9               3.0                1.4               0.2\n",
            "2                  4.7               3.2                1.3               0.2\n",
            "3                  4.6               3.1                1.5               0.2\n",
            "4                  5.0               3.6                1.4               0.2\n",
            "..                 ...               ...                ...               ...\n",
            "145                6.7               3.0                5.2               2.3\n",
            "146                6.3               2.5                5.0               1.9\n",
            "147                6.5               3.0                5.2               2.0\n",
            "148                6.2               3.4                5.4               2.3\n",
            "149                5.9               3.0                5.1               1.8\n",
            "\n",
            "[150 rows x 4 columns]\n",
            "     0\n",
            "0    0\n",
            "1    0\n",
            "2    0\n",
            "3    0\n",
            "4    0\n",
            "..  ..\n",
            "145  2\n",
            "146  2\n",
            "147  2\n",
            "148  2\n",
            "149  2\n",
            "\n",
            "[150 rows x 1 columns]\n"
          ]
        }
      ]
    },
    {
      "cell_type": "code",
      "source": [
        "# x_data 의 행과 열의 크기를 출력.\n",
        "print(x_data.shape)"
      ],
      "metadata": {
        "id": "e2b9w7ddkns2",
        "colab": {
          "base_uri": "https://localhost:8080/"
        },
        "outputId": "8c8887b7-47d8-4b69-f301-4cb02bb90cd0"
      },
      "execution_count": null,
      "outputs": [
        {
          "output_type": "stream",
          "name": "stdout",
          "text": [
            "(150, 4)\n"
          ]
        }
      ]
    },
    {
      "cell_type": "code",
      "source": [
        "# x_data 에서 샘플의 개수, 평균, 표준 편차, 최소값, 샘플 중 25%의 값, 50%의 값, 75%의 값, 최대값 출력.\n",
        "print(x_data.describe())"
      ],
      "metadata": {
        "id": "kg_Pyot3kyAE",
        "colab": {
          "base_uri": "https://localhost:8080/"
        },
        "outputId": "f22a6bf7-e301-49e8-fc4e-99bc717e33a6"
      },
      "execution_count": null,
      "outputs": [
        {
          "output_type": "stream",
          "name": "stdout",
          "text": [
            "       sepal length (cm)  sepal width (cm)  petal length (cm)  \\\n",
            "count         150.000000        150.000000         150.000000   \n",
            "mean            5.843333          3.057333           3.758000   \n",
            "std             0.828066          0.435866           1.765298   \n",
            "min             4.300000          2.000000           1.000000   \n",
            "25%             5.100000          2.800000           1.600000   \n",
            "50%             5.800000          3.000000           4.350000   \n",
            "75%             6.400000          3.300000           5.100000   \n",
            "max             7.900000          4.400000           6.900000   \n",
            "\n",
            "       petal width (cm)  \n",
            "count        150.000000  \n",
            "mean           1.199333  \n",
            "std            0.762238  \n",
            "min            0.100000  \n",
            "25%            0.300000  \n",
            "50%            1.300000  \n",
            "75%            1.800000  \n",
            "max            2.500000  \n"
          ]
        }
      ]
    },
    {
      "cell_type": "code",
      "source": [
        "# train, test 데이터를 8 : 2 로 나눔.\n",
        "x_train, x_test, y_train, y_test = train_test_split(x_data, y_data, test_size=0.2, random_state=22)\n",
        "\n",
        "# train 데이터 출력.\n",
        "print(x_train)\n",
        "print(y_train)"
      ],
      "metadata": {
        "id": "KmU9_rezjTv8",
        "colab": {
          "base_uri": "https://localhost:8080/"
        },
        "outputId": "6ffd03de-9d66-43f2-9579-506e32d09730"
      },
      "execution_count": null,
      "outputs": [
        {
          "output_type": "stream",
          "name": "stdout",
          "text": [
            "     sepal length (cm)  sepal width (cm)  petal length (cm)  petal width (cm)\n",
            "30                 4.8               3.1                1.6               0.2\n",
            "31                 5.4               3.4                1.5               0.4\n",
            "89                 5.5               2.5                4.0               1.3\n",
            "90                 5.5               2.6                4.4               1.2\n",
            "55                 5.7               2.8                4.5               1.3\n",
            "..                 ...               ...                ...               ...\n",
            "102                7.1               3.0                5.9               2.1\n",
            "100                6.3               3.3                6.0               2.5\n",
            "44                 5.1               3.8                1.9               0.4\n",
            "132                6.4               2.8                5.6               2.2\n",
            "117                7.7               3.8                6.7               2.2\n",
            "\n",
            "[120 rows x 4 columns]\n",
            "     0\n",
            "30   0\n",
            "31   0\n",
            "89   1\n",
            "90   1\n",
            "55   1\n",
            "..  ..\n",
            "102  2\n",
            "100  2\n",
            "44   0\n",
            "132  2\n",
            "117  2\n",
            "\n",
            "[120 rows x 1 columns]\n"
          ]
        }
      ]
    },
    {
      "cell_type": "code",
      "source": [
        "# test 데이터 출력.\n",
        "print(x_test)\n",
        "print(y_test)"
      ],
      "metadata": {
        "colab": {
          "base_uri": "https://localhost:8080/"
        },
        "id": "lOYzpRfAvhqE",
        "outputId": "4f80c5dd-acde-45fd-bfc2-fbeae25d5452"
      },
      "execution_count": null,
      "outputs": [
        {
          "output_type": "stream",
          "name": "stdout",
          "text": [
            "     sepal length (cm)  sepal width (cm)  petal length (cm)  petal width (cm)\n",
            "10                 5.4               3.7                1.5               0.2\n",
            "115                6.4               3.2                5.3               2.3\n",
            "54                 6.5               2.8                4.6               1.5\n",
            "146                6.3               2.5                5.0               1.9\n",
            "63                 6.1               2.9                4.7               1.4\n",
            "76                 6.8               2.8                4.8               1.4\n",
            "86                 6.7               3.1                4.7               1.5\n",
            "138                6.0               3.0                4.8               1.8\n",
            "64                 5.6               2.9                3.6               1.3\n",
            "35                 5.0               3.2                1.2               0.2\n",
            "120                6.9               3.2                5.7               2.3\n",
            "95                 5.7               3.0                4.2               1.2\n",
            "130                7.4               2.8                6.1               1.9\n",
            "109                7.2               3.6                6.1               2.5\n",
            "43                 5.0               3.5                1.6               0.6\n",
            "131                7.9               3.8                6.4               2.0\n",
            "69                 5.6               2.5                3.9               1.1\n",
            "99                 5.7               2.8                4.1               1.3\n",
            "119                6.0               2.2                5.0               1.5\n",
            "96                 5.7               2.9                4.2               1.3\n",
            "46                 5.1               3.8                1.6               0.2\n",
            "141                6.9               3.1                5.1               2.3\n",
            "36                 5.5               3.5                1.3               0.2\n",
            "92                 5.8               2.6                4.0               1.2\n",
            "142                5.8               2.7                5.1               1.9\n",
            "2                  4.7               3.2                1.3               0.2\n",
            "129                7.2               3.0                5.8               1.6\n",
            "147                6.5               3.0                5.2               2.0\n",
            "124                6.7               3.3                5.7               2.1\n",
            "126                6.2               2.8                4.8               1.8\n",
            "     0\n",
            "10   0\n",
            "115  2\n",
            "54   1\n",
            "146  2\n",
            "63   1\n",
            "76   1\n",
            "86   1\n",
            "138  2\n",
            "64   1\n",
            "35   0\n",
            "120  2\n",
            "95   1\n",
            "130  2\n",
            "109  2\n",
            "43   0\n",
            "131  2\n",
            "69   1\n",
            "99   1\n",
            "119  2\n",
            "96   1\n",
            "46   0\n",
            "141  2\n",
            "36   0\n",
            "92   1\n",
            "142  2\n",
            "2    0\n",
            "129  2\n",
            "147  2\n",
            "124  2\n",
            "126  2\n"
          ]
        }
      ]
    },
    {
      "cell_type": "code",
      "source": [
        "# 선형 SVM 을 통한 분류.\n",
        "estimator = svm.SVC(kernel='linear')"
      ],
      "metadata": {
        "id": "IJ66-fbWj_OX"
      },
      "execution_count": null,
      "outputs": []
    },
    {
      "cell_type": "code",
      "source": [
        "# 인공지능 모델을 학습시킴.\n",
        "estimator.fit(x_train, y_train)"
      ],
      "metadata": {
        "id": "TZH1Daf6kXps",
        "colab": {
          "base_uri": "https://localhost:8080/"
        },
        "outputId": "17693bf2-41d8-4cbf-d385-ec78aac71b99"
      },
      "execution_count": null,
      "outputs": [
        {
          "output_type": "stream",
          "name": "stderr",
          "text": [
            "/usr/local/lib/python3.7/dist-packages/sklearn/utils/validation.py:993: DataConversionWarning: A column-vector y was passed when a 1d array was expected. Please change the shape of y to (n_samples, ), for example using ravel().\n",
            "  y = column_or_1d(y, warn=True)\n"
          ]
        },
        {
          "output_type": "execute_result",
          "data": {
            "text/plain": [
              "SVC(kernel='linear', random_state=22)"
            ]
          },
          "metadata": {},
          "execution_count": 35
        }
      ]
    },
    {
      "cell_type": "code",
      "source": [
        "y_predict = estimator.predict(x_train) # 학습시킨 인공지능 모델에 x_train 데이터를 입력으로 하여 예측.\n",
        "score = accuracy_score(y_train, y_predict) # 실제 정답과 인공지능이 예측하여 출력한 답과 비교하여 정확도를 계산.\n",
        "print(score) # 점수 출력."
      ],
      "metadata": {
        "id": "A38LYJB_kY4d",
        "colab": {
          "base_uri": "https://localhost:8080/"
        },
        "outputId": "084142c6-339d-44c1-b088-67bb5b6d97dc"
      },
      "execution_count": null,
      "outputs": [
        {
          "output_type": "stream",
          "name": "stdout",
          "text": [
            "0.9833333333333333\n"
          ]
        }
      ]
    },
    {
      "cell_type": "code",
      "source": [
        "y_predict = estimator.predict(x_test) # 학습시킨 인공지능 모델에 x_test 데이터를 입력으로 하여 예측.\n",
        "score = accuracy_score(y_test, y_predict) # 실제 정답과 인공지능이 예측하여 출력한 답과 비교하여 정확도를 계산.\n",
        "print(score) # 점수 출력."
      ],
      "metadata": {
        "id": "B2-GKCfMkZyL",
        "colab": {
          "base_uri": "https://localhost:8080/"
        },
        "outputId": "5cdb225f-a2aa-4f9a-81bc-17306369fda7"
      },
      "execution_count": null,
      "outputs": [
        {
          "output_type": "stream",
          "name": "stdout",
          "text": [
            "0.9333333333333333\n"
          ]
        }
      ]
    }
  ]
}